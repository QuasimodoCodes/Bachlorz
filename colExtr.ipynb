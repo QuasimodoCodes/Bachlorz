{
 "cells": [
  {
   "cell_type": "code",
   "execution_count": 2,
   "metadata": {},
   "outputs": [
    {
     "name": "stdout",
     "output_type": "stream",
     "text": [
      "Index(['Tender Title', 'Evaluation and Award',\n",
      "       'Annex - Technical/Tender Specifications', 'Tables',\n",
      "       'Exclusion Criteria', 'Selection Criteria', 'Award Criteria',\n",
      "       'Documents to Submit', 'Tenderer Requirements',\n",
      "       'Project/Contract Details', 'Criteria Description',\n",
      "       'Supporting Documents', 'Impact/Performance Indicators',\n",
      "       'Financial Information', 'Project Timeline'],\n",
      "      dtype='object')\n"
     ]
    }
   ],
   "source": [
    "import pandas as pd \n",
    "\n",
    "\n",
    "df = pd.read_csv('cleaned_lemmatized_data.csv')\n",
    "\n",
    "# print columns \n",
    "print(df.columns)"
   ]
  },
  {
   "cell_type": "code",
   "execution_count": 4,
   "metadata": {},
   "outputs": [
    {
     "name": "stdout",
     "output_type": "stream",
     "text": [
      "0    originally submitted tender modified originall...\n",
      "1    21 35 award ranking tender 22 4 form content t...\n",
      "2    30 35 award ranking tender 31 4 form content t...\n",
      "3    originally technical evaluation applied tender...\n",
      "4    originally submitted tender accordance specifi...\n",
      "Name: Award Criteria, dtype: object\n"
     ]
    }
   ],
   "source": [
    "#select column Award Criteria\n",
    "award_criteria = df['Award Criteria']\n",
    "\n",
    "# print first 5 rows of the column\n",
    "print(award_criteria.head())"
   ]
  },
  {
   "cell_type": "code",
   "execution_count": 5,
   "metadata": {},
   "outputs": [],
   "source": [
    "# save Award Criteria as a csv file\n",
    "award_criteria.to_csv('award_criteria.csv', index=False)"
   ]
  }
 ],
 "metadata": {
  "kernelspec": {
   "display_name": "Python 3",
   "language": "python",
   "name": "python3"
  },
  "language_info": {
   "codemirror_mode": {
    "name": "ipython",
    "version": 3
   },
   "file_extension": ".py",
   "mimetype": "text/x-python",
   "name": "python",
   "nbconvert_exporter": "python",
   "pygments_lexer": "ipython3",
   "version": "3.12.6"
  }
 },
 "nbformat": 4,
 "nbformat_minor": 2
}
