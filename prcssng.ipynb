{
 "cells": [
  {
   "cell_type": "code",
   "execution_count": null,
   "metadata": {},
   "outputs": [],
   "source": [
    "import pandas as pd\n",
    "from transformers import BertTokenizer, BertModel\n",
    "import torch\n",
    "from sklearn.metrics.pairwise import cosine_similarity\n",
    "\n",
    "# Load the data\n",
    "df = pd.read_csv(r\"C:\\Users\\spide\\OneDrive\\Desktop\\Bachlorz\\Data\\extracted_data.csv\")\n",
    "\n",
    "# Load pre-trained BERT model and tokenizer\n",
    "tokenizer = BertTokenizer.from_pretrained('bert-base-uncased')\n",
    "model = BertModel.from_pretrained('bert-base-uncased')\n",
    "\n",
    "# Function to generate embeddings for a given text\n",
    "def generate_embeddings(text):\n",
    "    inputs = tokenizer(text, return_tensors='pt', truncation=True, padding=True, max_length=512)\n",
    "    with torch.no_grad():\n",
    "        outputs = model(**inputs)\n",
    "    embeddings = outputs.last_hidden_state.mean(dim=1).squeeze()\n",
    "    return embeddings.numpy()\n",
    "\n",
    "# Generate embeddings for each tender content\n",
    "df['embeddings'] = df['content'].apply(lambda x: generate_embeddings(x))\n",
    "\n",
    "# Function to handle search query and find the most relevant tenders\n",
    "def recommend_tenders(query, df):\n",
    "    query_embedding = generate_embeddings(query)\n",
    "    \n",
    "    # Compute similarity scores between the query and each document\n",
    "    similarities = df['embeddings'].apply(lambda x: cosine_similarity([query_embedding], [x])[0][0])\n",
    "    \n",
    "    # Sort tenders based on similarity and return the top 5 recommendations\n",
    "    top_recommendations = df.iloc[similarities.argsort()[-5:]]\n",
    "    return top_recommendations[['filename', 'source_format', 'content']]\n",
    "\n",
    "# Example usage\n",
    "query = \"cloud computing\"\n",
    "recommended_tenders = recommend_tenders(query, df)\n",
    "print(recommended_tenders)\n"
   ]
  },
  {
   "cell_type": "code",
   "execution_count": 3,
   "metadata": {},
   "outputs": [
    {
     "name": "stdout",
     "output_type": "stream",
     "text": [
      "Sample content embedding shape: (768,)\n",
      "Query embedding shape: (768,)\n"
     ]
    }
   ],
   "source": [
    "# Check the shape of an embedding for content and query\n",
    "sample_content = df['content'].iloc[0]  # Get the first content sample\n",
    "sample_embedding = generate_embeddings(sample_content)\n",
    "print(\"Sample content embedding shape:\", sample_embedding.shape)\n",
    "\n",
    "sample_query = \"cloud computing\"\n",
    "query_embedding = generate_embeddings(sample_query)\n",
    "print(\"Query embedding shape:\", query_embedding.shape)\n"
   ]
  },
  {
   "cell_type": "code",
   "execution_count": 4,
   "metadata": {},
   "outputs": [
    {
     "name": "stdout",
     "output_type": "stream",
     "text": [
      "Cosine similarity between query and sample content: 0.20795033872127533\n"
     ]
    }
   ],
   "source": [
    "# Check cosine similarity for the first document\n",
    "similarity_score = cosine_similarity([query_embedding], [sample_embedding])[0][0]\n",
    "print(f\"Cosine similarity between query and sample content: {similarity_score}\")\n"
   ]
  },
  {
   "cell_type": "code",
   "execution_count": 5,
   "metadata": {},
   "outputs": [
    {
     "name": "stdout",
     "output_type": "stream",
     "text": [
      "Top 5 similarity scores: 74     0.242805\n",
      "178    0.254729\n",
      "13     0.270323\n",
      "303    0.275314\n",
      "424    0.321805\n",
      "Name: embeddings, dtype: float32\n",
      "                                              filename source_format  \\\n",
      "74   C:\\Users\\spide\\OneDrive\\Desktop\\Bachlorz\\2022 ...           pdf   \n",
      "178  C:\\Users\\spide\\OneDrive\\Desktop\\Bachlorz\\2022 ...           pdf   \n",
      "13   C:\\Users\\spide\\OneDrive\\Desktop\\Bachlorz\\2022 ...           pdf   \n",
      "303  C:\\Users\\spide\\OneDrive\\Desktop\\Bachlorz\\2022 ...          xlsx   \n",
      "424  C:\\Users\\spide\\OneDrive\\Desktop\\Bachlorz\\2022 ...           pdf   \n",
      "\n",
      "                                               content  \n",
      "74   Stor-Elvdal kommune Enhet Forvaltning ABAKUS A...  \n",
      "178  Dato: 11.05.2022 Side 1 Hovedkontor Sandvika S...  \n",
      "13   4 3 2 1 MISSINGMEASUREMENTSARETOBETAKEFROM3DMO...  \n",
      "303  Tabular response general requirements Unnamed:...  \n",
      "424  Dokument «Integrasjonsrammeverk», ID 2945 - EQ...  \n"
     ]
    }
   ],
   "source": [
    "# Updated recommend_tenders function to return the top recommendations with content similarity\n",
    "def recommend_tenders(query, df):\n",
    "    query_embedding = generate_embeddings(query)\n",
    "    \n",
    "    # Compute similarity scores between the query and each document\n",
    "    similarities = df['embeddings'].apply(lambda x: cosine_similarity([query_embedding], [x])[0][0])\n",
    "    \n",
    "    # Sort tenders based on similarity and return the top 5 recommendations\n",
    "    top_recommendations = df.iloc[similarities.argsort()[-5:]]\n",
    "    \n",
    "    # Debugging output: Print similarity scores\n",
    "    print(f\"Top 5 similarity scores: {similarities[similarities.argsort()[-5:]]}\")\n",
    "    \n",
    "    return top_recommendations[['filename', 'source_format', 'content']]\n",
    "\n",
    "# Run the example to check recommendations\n",
    "query = \"cloud computing\"\n",
    "recommended_tenders = recommend_tenders(query, df)\n",
    "print(recommended_tenders)\n"
   ]
  },
  {
   "cell_type": "code",
   "execution_count": 7,
   "metadata": {},
   "outputs": [
    {
     "name": "stdout",
     "output_type": "stream",
     "text": [
      "* Running on local URL:  http://127.0.0.1:7862\n",
      "\n",
      "To create a public link, set `share=True` in `launch()`.\n"
     ]
    },
    {
     "data": {
      "text/html": [
       "<div><iframe src=\"http://127.0.0.1:7862/\" width=\"100%\" height=\"500\" allow=\"autoplay; camera; microphone; clipboard-read; clipboard-write;\" frameborder=\"0\" allowfullscreen></iframe></div>"
      ],
      "text/plain": [
       "<IPython.core.display.HTML object>"
      ]
     },
     "metadata": {},
     "output_type": "display_data"
    },
    {
     "data": {
      "text/plain": []
     },
     "execution_count": 7,
     "metadata": {},
     "output_type": "execute_result"
    }
   ],
   "source": [
    "import gradio as gr\n",
    "\n",
    "def recommend_tenders_gradio(query):\n",
    "    recommended_tenders = recommend_tenders(query, df)\n",
    "    return recommended_tenders[['content']]\n",
    "\n",
    "# Create Gradio Interface\n",
    "interface = gr.Interface(fn=recommend_tenders_gradio, inputs=\"text\", outputs=\"dataframe\")\n",
    "interface.launch()\n"
   ]
  }
 ],
 "metadata": {
  "kernelspec": {
   "display_name": "Python 3",
   "language": "python",
   "name": "python3"
  },
  "language_info": {
   "codemirror_mode": {
    "name": "ipython",
    "version": 3
   },
   "file_extension": ".py",
   "mimetype": "text/x-python",
   "name": "python",
   "nbconvert_exporter": "python",
   "pygments_lexer": "ipython3",
   "version": "3.12.1"
  }
 },
 "nbformat": 4,
 "nbformat_minor": 2
}
